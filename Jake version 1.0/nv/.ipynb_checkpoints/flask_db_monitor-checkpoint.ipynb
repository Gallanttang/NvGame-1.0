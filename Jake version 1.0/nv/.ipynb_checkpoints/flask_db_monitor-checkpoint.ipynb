{
 "cells": [
  {
   "cell_type": "markdown",
   "metadata": {},
   "source": [
    "## Create All Tables From Flask In DB"
   ]
  },
  {
   "cell_type": "code",
   "execution_count": 1,
   "metadata": {
    "collapsed": true
   },
   "outputs": [],
   "source": [
    "# To re-create an empty database:\n",
    "# Please first make sure 'newsvendor_db.db' is not in the working directory (if it's in there, delete it first).\n",
    "# Then, RESTART & CLEAR OUTPUT in Kernel tab.\n",
    "# Then, run following code!"
   ]
  },
  {
   "cell_type": "code",
   "execution_count": 2,
   "metadata": {
    "collapsed": true
   },
   "outputs": [],
   "source": [
    "from flask_app import db"
   ]
  },
  {
   "cell_type": "code",
   "execution_count": 3,
   "metadata": {
    "collapsed": true
   },
   "outputs": [],
   "source": [
    "db.create_all()"
   ]
  },
  {
   "cell_type": "markdown",
   "metadata": {},
   "source": [
    "## Solve Error: Database Is Locked"
   ]
  },
  {
   "cell_type": "code",
   "execution_count": 79,
   "metadata": {
    "collapsed": true
   },
   "outputs": [],
   "source": [
    "# download newsvendor_db.db file to local drive\n",
    "# delete newsvendor_db.db file in PythonAnywhere drive\n",
    "# re-upload newsvendor_db.db file from local drive to PythonAnywhere drive"
   ]
  },
  {
   "cell_type": "markdown",
   "metadata": {},
   "source": [
    "## Create 3 Admin Account In DB"
   ]
  },
  {
   "cell_type": "code",
   "execution_count": 4,
   "metadata": {
    "collapsed": true
   },
   "outputs": [],
   "source": [
    "import sqlite3\n",
    "db = sqlite3.connect('newsvendor_db.db')\n",
    "cursor = db.cursor()"
   ]
  },
  {
   "cell_type": "code",
   "execution_count": 5,
   "metadata": {
    "collapsed": true
   },
   "outputs": [],
   "source": [
    "id = [10000001100,10000002200,10000003300]\n",
    "pname = ['harishk', 'timh', 'jakez']\n",
    "scode  = ['harishk_00', 'timh_00', 'jakez_00']\n",
    "\n",
    "for i in range(3):\n",
    "    cursor.execute('''INSERT INTO User(id, pname, scode)\n",
    "                      VALUES(?,?,?)''', (id[i], pname[i], scode[i])) \n",
    "db.commit()"
   ]
  },
  {
   "cell_type": "markdown",
   "metadata": {},
   "source": [
    "## Check User Table"
   ]
  },
  {
   "cell_type": "code",
   "execution_count": 6,
   "metadata": {
    "collapsed": false
   },
   "outputs": [
    {
     "name": "stdout",
     "output_type": "stream",
     "text": [
      "(10000001100, 'harishk', 'harishk_00')\n",
      "(10000002200, 'timh', 'timh_00')\n",
      "(10000003300, 'jakez', 'jakez_00')\n"
     ]
    }
   ],
   "source": [
    "import sqlite3\n",
    "db = sqlite3.connect('newsvendor_db.db')\n",
    "cursor = db.cursor()\n",
    "\n",
    "cursor.execute('''SELECT * FROM User''')\n",
    "for row in cursor:\n",
    "    print(row)"
   ]
  },
  {
   "cell_type": "markdown",
   "metadata": {},
   "source": [
    "## Check Parameter Table"
   ]
  },
  {
   "cell_type": "code",
   "execution_count": 7,
   "metadata": {
    "collapsed": true
   },
   "outputs": [],
   "source": [
    "import sqlite3\n",
    "db = sqlite3.connect('newsvendor_db.db')\n",
    "cursor = db.cursor()\n",
    "\n",
    "cursor.execute('''SELECT * FROM Parameter''')\n",
    "for row in cursor:\n",
    "    print(row)"
   ]
  },
  {
   "cell_type": "markdown",
   "metadata": {},
   "source": [
    "## Check Demand Table"
   ]
  },
  {
   "cell_type": "code",
   "execution_count": 8,
   "metadata": {
    "collapsed": true
   },
   "outputs": [],
   "source": [
    "import sqlite3\n",
    "db = sqlite3.connect('newsvendor_db.db')\n",
    "cursor = db.cursor()\n",
    "\n",
    "cursor.execute('''SELECT * FROM Demand''')\n",
    "for row in cursor:\n",
    "    print(row)"
   ]
  },
  {
   "cell_type": "markdown",
   "metadata": {},
   "source": [
    "## Check Game Table"
   ]
  },
  {
   "cell_type": "code",
   "execution_count": 9,
   "metadata": {
    "collapsed": true
   },
   "outputs": [],
   "source": [
    "import sqlite3\n",
    "db = sqlite3.connect('newsvendor_db.db')\n",
    "cursor = db.cursor()\n",
    "\n",
    "cursor.execute('''SELECT * FROM Game''')\n",
    "for row in cursor:\n",
    "    print(row)"
   ]
  },
  {
   "cell_type": "markdown",
   "metadata": {},
   "source": [
    "## Check Pace Table"
   ]
  },
  {
   "cell_type": "code",
   "execution_count": 10,
   "metadata": {
    "collapsed": true
   },
   "outputs": [],
   "source": [
    "import sqlite3\n",
    "db = sqlite3.connect('newsvendor_db.db')\n",
    "cursor = db.cursor()\n",
    "\n",
    "cursor.execute('''SELECT * FROM Pace''')\n",
    "for row in cursor:\n",
    "    print(row)"
   ]
  },
  {
   "cell_type": "code",
   "execution_count": null,
   "metadata": {
    "collapsed": true
   },
   "outputs": [],
   "source": []
  },
  {
   "cell_type": "markdown",
   "metadata": {},
   "source": [
    "## Download Game Record In CSV Format For Specific Game Session"
   ]
  },
  {
   "cell_type": "code",
   "execution_count": 63,
   "metadata": {
    "collapsed": false
   },
   "outputs": [
    {
     "name": "stdout",
     "output_type": "stream",
     "text": [
      "Session Code: timh_01\n"
     ]
    }
   ],
   "source": [
    "session = input('Session Code: ')"
   ]
  },
  {
   "cell_type": "code",
   "execution_count": 64,
   "metadata": {
    "collapsed": true
   },
   "outputs": [],
   "source": [
    "import sqlite3\n",
    "import pandas as pd\n",
    "\n",
    "db = sqlite3.connect('newsvendor_db.db')\n",
    "\n",
    "resdf = pd.read_sql_query('''SELECT *\n",
    "                             FROM game\n",
    "                             WHERE scode = '{}'\n",
    "                          '''.format(session), db)\n",
    "\n",
    "resdf.to_csv(r'game_record_{}.csv'.format(session))"
   ]
  },
  {
   "cell_type": "code",
   "execution_count": null,
   "metadata": {
    "collapsed": true
   },
   "outputs": [],
   "source": []
  }
 ],
 "metadata": {
  "kernelspec": {
   "display_name": "Python 3",
   "language": "python",
   "name": "python3"
  },
  "language_info": {
   "codemirror_mode": {
    "name": "ipython",
    "version": 3
   },
   "file_extension": ".py",
   "mimetype": "text/x-python",
   "name": "python",
   "nbconvert_exporter": "python",
   "pygments_lexer": "ipython3",
   "version": "3.4.9"
  }
 },
 "nbformat": 4,
 "nbformat_minor": 2
}
